{
 "cells": [
  {
   "cell_type": "code",
   "execution_count": 26,
   "metadata": {},
   "outputs": [],
   "source": [
    "%defaultDatasource jdbc:h2:../data/interim/disksql"
   ]
  },
  {
   "cell_type": "code",
   "execution_count": 13,
   "metadata": {},
   "outputs": [],
   "source": [
    "DROP TABLE IF EXISTS Mortalidade;\n",
    "\n",
    "\n",
    "CREATE TABLE Mortalidade(\n",
    "    Ano INTEGER,\n",
    "    Estado VARCHAR(20),\n",
    "    CodigoEstado INTEGER,\n",
    "    Mortes INTEGER,\n",
    "    População INTEGER,\n",
    "    Mortes100K DOUBLE,\n",
    "    PRIMARY KEY(Estado,Ano)\n",
    ") AS SELECT\n",
    "    Year,State,StateCode,Deaths,Population,CrudeRate\n",
    "FROM CSVREAD('../data/processed/lungcancer.csv');"
   ]
  },
  {
   "cell_type": "markdown",
   "metadata": {},
   "source": [
    "## Todas as taxas de mortalidade a seguir se referem a mortes por câncer de pulmão"
   ]
  },
  {
   "cell_type": "markdown",
   "metadata": {},
   "source": [
    "### Top 5 mortalidade por 100 mil habitantes"
   ]
  },
  {
   "cell_type": "code",
   "execution_count": 14,
   "metadata": {},
   "outputs": [
    {
     "data": {
      "application/vnd.jupyter.widget-view+json": {
       "model_id": "2d7c7a30-315f-4907-8a20-b1a39ce369d3",
       "version_major": 2,
       "version_minor": 0
      },
      "method": "display_data"
     },
     "metadata": {},
     "output_type": "display_data"
    }
   ],
   "source": [
    "SELECT *\n",
    "FROM Mortalidade\n",
    "ORDER BY Mortalidade.Mortes100k DESC\n",
    "LIMIT 5"
   ]
  },
  {
   "cell_type": "markdown",
   "metadata": {},
   "source": [
    "### Top 5 estado com maior mortalidade média por 100 mil habitantes de 1968 a 2018"
   ]
  },
  {
   "cell_type": "code",
   "execution_count": 15,
   "metadata": {},
   "outputs": [
    {
     "data": {
      "application/vnd.jupyter.widget-view+json": {
       "model_id": "6cd798e9-0b79-4e3b-bc5e-5a7b40543b32",
       "version_major": 2,
       "version_minor": 0
      },
      "method": "display_data"
     },
     "metadata": {},
     "output_type": "display_data"
    }
   ],
   "source": [
    "SELECT Estado,AVG(Mortes100k) avg_mortes100k\n",
    "FROM Mortalidade\n",
    "GROUP BY Estado\n",
    "ORDER BY avg_mortes100k DESC\n",
    "LIMIT 5"
   ]
  },
  {
   "cell_type": "markdown",
   "metadata": {},
   "source": [
    "### Top 10 anos com o maior número de mortes (valores absolutos)"
   ]
  },
  {
   "cell_type": "code",
   "execution_count": 16,
   "metadata": {},
   "outputs": [
    {
     "data": {
      "application/vnd.jupyter.widget-view+json": {
       "model_id": "e11530b0-a5fa-4322-8a8c-82e8dd9ad2a4",
       "version_major": 2,
       "version_minor": 0
      },
      "method": "display_data"
     },
     "metadata": {},
     "output_type": "display_data"
    }
   ],
   "source": [
    "SELECT Ano,SUM(mortes) TotalDeMortes\n",
    "FROM Mortalidade\n",
    "GROUP BY Ano\n",
    "ORDER BY TotalDeMortes DESC\n",
    "LIMIT 10"
   ]
  },
  {
   "cell_type": "markdown",
   "metadata": {},
   "source": [
    "### Mortalidade nacional por 100 mil habitantes"
   ]
  },
  {
   "cell_type": "code",
   "execution_count": 17,
   "metadata": {},
   "outputs": [
    {
     "data": {
      "application/vnd.jupyter.widget-view+json": {
       "model_id": "bf1eefc1-8bb7-40bf-9c7d-f90fbbc93624",
       "version_major": 2,
       "version_minor": 0
      },
      "method": "display_data"
     },
     "metadata": {},
     "output_type": "display_data"
    }
   ],
   "source": [
    "SELECT Ano,Mtotal,Ptotal,CAST (Mtotal AS DECIMAL)/Ptotal*100000 Mortes100k\n",
    "FROM(\n",
    "    \n",
    "    SELECT Ano,SUM(Mortes) Mtotal,SUM(População) Ptotal\n",
    "    FROM Mortalidade\n",
    "    GROUP BY Ano\n",
    "    \n",
    ")\n",
    "ORDER BY Ano ASC"
   ]
  },
  {
   "cell_type": "markdown",
   "metadata": {},
   "source": [
    "### Estados cuja média da mortalidade por 100 mil habitantes de 1968 a 2018 supera a média da mortalidade nacional de 1968 a 2018"
   ]
  },
  {
   "cell_type": "code",
   "execution_count": 18,
   "metadata": {},
   "outputs": [
    {
     "data": {
      "application/vnd.jupyter.widget-view+json": {
       "model_id": "bd3db803-a5c9-4ffe-a789-2bb935b6e718",
       "version_major": 2,
       "version_minor": 0
      },
      "method": "display_data"
     },
     "metadata": {},
     "output_type": "display_data"
    }
   ],
   "source": [
    "SELECT M.Estado\n",
    "\n",
    "FROM\n",
    "    (SELECT Estado,AVG(Mortes100k) avg_mortes100k\n",
    "    FROM Mortalidade\n",
    "    GROUP BY Estado) as M\n",
    "WHERE\n",
    "    M.avg_mortes100k > (SELECT AVG(CAST (Mtotal AS DECIMAL)/Ptotal*100000)\n",
    "                        FROM(\n",
    "                            SELECT Ano,SUM(Mortes) Mtotal,SUM(População) Ptotal\n",
    "                            FROM Mortalidade\n",
    "                            GROUP BY Ano)\n",
    "                        )"
   ]
  },
  {
   "cell_type": "markdown",
   "metadata": {},
   "source": [
    "### Estados que superaram a mortalidade nacional por 100 mil habitantes por ano"
   ]
  },
  {
   "cell_type": "code",
   "execution_count": 19,
   "metadata": {},
   "outputs": [
    {
     "data": {
      "application/vnd.jupyter.widget-view+json": {
       "model_id": "c8dbbf94-7671-4a4d-b2ff-00839cffe3da",
       "version_major": 2,
       "version_minor": 0
      },
      "method": "display_data"
     },
     "metadata": {},
     "output_type": "display_data"
    }
   ],
   "source": [
    "SELECT Mortalidade.Ano, Mortalidade.Estado, Mortalidade.mortes100k,Nacional.mortes100kNacional\n",
    "FROM \n",
    "    Mortalidade, \n",
    "    (SELECT Ano,Mtotal,Ptotal,CAST (Mtotal AS DECIMAL)/Ptotal*100000 mortes100kNacional\n",
    "    FROM(\n",
    "\n",
    "        SELECT Ano,SUM(Mortes) Mtotal,SUM(População) Ptotal\n",
    "        FROM Mortalidade\n",
    "        GROUP BY Ano\n",
    "\n",
    "    )) AS Nacional\n",
    "WHERE Mortalidade.Ano = Nacional.Ano and Mortalidade.mortes100k > Nacional.mortes100kNacional\n",
    "ORDER BY Ano ASC,Mortes100k DESC"
   ]
  }
 ],
 "metadata": {
  "kernelspec": {
   "display_name": "SQL",
   "language": "SQL",
   "name": "sql"
  },
  "language_info": {
   "codemirror_mode": "sql",
   "file_extension": ".sql",
   "mimetype": "",
   "name": "SQL",
   "nbconverter_exporter": "",
   "version": ""
  },
  "toc": {
   "base_numbering": 1,
   "nav_menu": {},
   "number_sections": false,
   "sideBar": false,
   "skip_h1_title": false,
   "title_cell": "Table of Contents",
   "title_sidebar": "Contents",
   "toc_cell": false,
   "toc_position": {},
   "toc_section_display": false,
   "toc_window_display": false
  }
 },
 "nbformat": 4,
 "nbformat_minor": 4
}
