{
 "cells": [
  {
   "cell_type": "code",
   "execution_count": 1,
   "metadata": {},
   "outputs": [],
   "source": [
    "%defaultDatasource jdbc:h2:../data/interim/disksql"
   ]
  },
  {
   "cell_type": "code",
   "execution_count": 2,
   "metadata": {},
   "outputs": [],
   "source": [
    "DROP TABLE IF EXISTS Mortalidade;\n",
    "\n",
    "\n",
    "CREATE TABLE Mortalidade(\n",
    "    Ano INTEGER,\n",
    "    Estado VARCHAR(20),\n",
    "    CodigoEstado INTEGER,\n",
    "    Mortes INTEGER,\n",
    "    População INTEGER,\n",
    "    Mortes100K DOUBLE,\n",
    "    PRIMARY KEY(Estado,Ano)\n",
    ") AS SELECT\n",
    "    Year,State,StateCode,Deaths,Population,CrudeRate\n",
    "FROM CSVREAD('../data/processed/lungcancer.csv');"
   ]
  },
  {
   "cell_type": "markdown",
   "metadata": {},
   "source": [
    "## Todas as taxas de mortalidade a seguir se referem a mortes por câncer de pulmão"
   ]
  },
  {
   "cell_type": "markdown",
   "metadata": {},
   "source": [
    "### Top 5 mortalidade por 100 mil habitantes"
   ]
  },
  {
   "cell_type": "code",
   "execution_count": 3,
   "metadata": {},
   "outputs": [
    {
     "data": {
      "application/vnd.jupyter.widget-view+json": {
       "model_id": "c808f81b-a424-49af-8b97-06ec618989aa",
       "version_major": 2,
       "version_minor": 0
      },
      "method": "display_data"
     },
     "metadata": {},
     "output_type": "display_data"
    }
   ],
   "source": [
    "SELECT *\n",
    "FROM Mortalidade\n",
    "ORDER BY Mortalidade.Mortes100k DESC\n",
    "LIMIT 5"
   ]
  },
  {
   "cell_type": "markdown",
   "metadata": {},
   "source": [
    "### Top 5 estado com maior mortalidade média por 100 mil habitantes de 1968 a 2018"
   ]
  },
  {
   "cell_type": "code",
   "execution_count": 4,
   "metadata": {},
   "outputs": [
    {
     "data": {
      "application/vnd.jupyter.widget-view+json": {
       "model_id": "b37ddce1-4871-4049-af51-221e4bc4905d",
       "version_major": 2,
       "version_minor": 0
      },
      "method": "display_data"
     },
     "metadata": {},
     "output_type": "display_data"
    }
   ],
   "source": [
    "SELECT Estado,AVG(Mortes100k) avg_mortes100k\n",
    "FROM Mortalidade\n",
    "GROUP BY Estado\n",
    "ORDER BY avg_mortes100k DESC\n",
    "LIMIT 5"
   ]
  },
  {
   "cell_type": "markdown",
   "metadata": {},
   "source": [
    "### Top 10 anos com o maior número de mortes (valores absolutos)"
   ]
  },
  {
   "cell_type": "code",
   "execution_count": 5,
   "metadata": {},
   "outputs": [
    {
     "data": {
      "application/vnd.jupyter.widget-view+json": {
       "model_id": "0530aed7-1b57-4154-9733-31c268e5e611",
       "version_major": 2,
       "version_minor": 0
      },
      "method": "display_data"
     },
     "metadata": {},
     "output_type": "display_data"
    }
   ],
   "source": [
    "SELECT Ano,SUM(mortes) TotalDeMortes\n",
    "FROM Mortalidade\n",
    "GROUP BY Ano\n",
    "ORDER BY TotalDeMortes DESC\n",
    "LIMIT 10"
   ]
  },
  {
   "cell_type": "markdown",
   "metadata": {},
   "source": [
    "### Mortalidade nacional por 100 mil habitantes"
   ]
  },
  {
   "cell_type": "code",
   "execution_count": 6,
   "metadata": {},
   "outputs": [
    {
     "data": {
      "application/vnd.jupyter.widget-view+json": {
       "model_id": "40d8feb7-3e4b-4b86-a9d4-db7593997c5a",
       "version_major": 2,
       "version_minor": 0
      },
      "method": "display_data"
     },
     "metadata": {},
     "output_type": "display_data"
    }
   ],
   "source": [
    "SELECT Ano,Mtotal,Ptotal,CAST (Mtotal AS DECIMAL)/Ptotal*100000 Mortes100k\n",
    "FROM(\n",
    "    \n",
    "    SELECT Ano,SUM(Mortes) Mtotal,SUM(População) Ptotal\n",
    "    FROM Mortalidade\n",
    "    GROUP BY Ano\n",
    "    \n",
    ")\n",
    "ORDER BY Ano ASC"
   ]
  },
  {
   "cell_type": "markdown",
   "metadata": {},
   "source": [
    "### Estados cuja média da mortalidade por 100 mil habitantes de 1968 a 2018 supera a média da mortalidade nacional de 1968 a 2018"
   ]
  },
  {
   "cell_type": "code",
   "execution_count": 7,
   "metadata": {},
   "outputs": [
    {
     "data": {
      "application/vnd.jupyter.widget-view+json": {
       "model_id": "f5336be2-6e7f-4f45-9d7f-b2a565e84dc8",
       "version_major": 2,
       "version_minor": 0
      },
      "method": "display_data"
     },
     "metadata": {},
     "output_type": "display_data"
    }
   ],
   "source": [
    "SELECT M.Estado\n",
    "\n",
    "FROM\n",
    "    (SELECT Estado,AVG(Mortes100k) avg_mortes100k\n",
    "    FROM Mortalidade\n",
    "    GROUP BY Estado) as M\n",
    "WHERE\n",
    "    M.avg_mortes100k > (SELECT AVG(CAST (Mtotal AS DECIMAL)/Ptotal*100000)\n",
    "                        FROM(\n",
    "                            SELECT Ano,SUM(Mortes) Mtotal,SUM(População) Ptotal\n",
    "                            FROM Mortalidade\n",
    "                            GROUP BY Ano)\n",
    "                        )"
   ]
  },
  {
   "cell_type": "markdown",
   "metadata": {},
   "source": [
    "### Estados que superaram a mortalidade nacional por 100 mil habitantes por ano"
   ]
  },
  {
   "cell_type": "code",
   "execution_count": 8,
   "metadata": {},
   "outputs": [
    {
     "data": {
      "application/vnd.jupyter.widget-view+json": {
       "model_id": "6fa5bf2e-019b-4dc3-a03e-8c7961e9d7c5",
       "version_major": 2,
       "version_minor": 0
      },
      "method": "display_data"
     },
     "metadata": {},
     "output_type": "display_data"
    }
   ],
   "source": [
    "SELECT Mortalidade.Ano, Mortalidade.Estado, Mortalidade.mortes100k,Nacional.mortes100kNacional\n",
    "FROM \n",
    "    Mortalidade, \n",
    "    (SELECT Ano,Mtotal,Ptotal,CAST (Mtotal AS DECIMAL)/Ptotal*100000 mortes100kNacional\n",
    "    FROM(\n",
    "\n",
    "        SELECT Ano,SUM(Mortes) Mtotal,SUM(População) Ptotal\n",
    "        FROM Mortalidade\n",
    "        GROUP BY Ano\n",
    "\n",
    "    )) AS Nacional\n",
    "WHERE Mortalidade.Ano = Nacional.Ano and Mortalidade.mortes100k > Nacional.mortes100kNacional\n",
    "ORDER BY Ano ASC,Mortes100k DESC"
   ]
  }
 ],
 "metadata": {
  "kernelspec": {
   "display_name": "SQL",
   "language": "SQL",
   "name": "sql"
  },
  "language_info": {
   "codemirror_mode": "sql",
   "file_extension": ".sql",
   "mimetype": "",
   "name": "SQL",
   "nbconverter_exporter": "",
   "version": ""
  },
  "toc": {
   "base_numbering": 1,
   "nav_menu": {},
   "number_sections": false,
   "sideBar": false,
   "skip_h1_title": false,
   "title_cell": "Table of Contents",
   "title_sidebar": "Contents",
   "toc_cell": false,
   "toc_position": {},
   "toc_section_display": false,
   "toc_window_display": false
  }
 },
 "nbformat": 4,
 "nbformat_minor": 4
}
