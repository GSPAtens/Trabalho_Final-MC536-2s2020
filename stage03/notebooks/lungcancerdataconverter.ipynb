{
 "cells": [
  {
   "cell_type": "markdown",
   "metadata": {},
   "source": [
    "### Conversão de dados retirados da API CDC Wonder\n",
    "##### Os arquivos base foram baixados preenchendo-se os formulários da API (disponível em https://wonder.cdc.gov/mortSQL.html) de forma manual, visto que só é possível filtrar por estado americano por este meio."
   ]
  },
  {
   "cell_type": "code",
   "execution_count": 5,
   "metadata": {},
   "outputs": [],
   "source": [
    "import csv\n",
    "import pandas as pd"
   ]
  },
  {
   "cell_type": "code",
   "execution_count": 6,
   "metadata": {},
   "outputs": [],
   "source": [
    "base_data_path = '../data/'\n",
    "base_dataset_name = base_data_path + 'lungcancer'\n",
    "datasets = ['1968-1978','1979-1998','1999-2018']"
   ]
  },
  {
   "cell_type": "code",
   "execution_count": 7,
   "metadata": {},
   "outputs": [],
   "source": [
    "for interval in datasets:\n",
    "    name = base_dataset_name + interval\n",
    "\n",
    "    with open(name + '.csv', 'w') as newfile:\n",
    "\n",
    "        f = open(name + '.txt')\n",
    "        output = f.readline().split('\\t')\n",
    "        i = 0\n",
    "        while output[0] != '\"---\"\\n':\n",
    "            data = []\n",
    "            output.pop(0)\n",
    "            for x in output:\n",
    "                x.split(\"\\\"\")\n",
    "                y = x.replace(\"\\\"\", \"\").replace(\"\\n\", \"\")\n",
    "                try:\n",
    "                    data.append(int(y))\n",
    "                    continue\n",
    "                except:\n",
    "                    try:\n",
    "                        data.append(float(y))\n",
    "                        continue\n",
    "                    except:\n",
    "                        data.append(y)\n",
    "            if data[3] != '':\n",
    "                data.pop(1)\n",
    "                wr = csv.writer(newfile, quoting=csv.QUOTE_NONE)\n",
    "                wr.writerow(data)\n",
    "\n",
    "            output = f.readline().split('\\t')\n",
    "            i = i+1"
   ]
  },
  {
   "cell_type": "code",
   "execution_count": 8,
   "metadata": {},
   "outputs": [],
   "source": [
    "combined_csv = pd.concat([pd.read_csv(base_dataset_name + f + '.csv') for f in datasets])\n",
    "combined_csv.to_csv(base_dataset_name + '.csv',index=False)"
   ]
  },
  {
   "cell_type": "code",
   "execution_count": null,
   "metadata": {},
   "outputs": [],
   "source": []
  }
 ],
 "metadata": {
  "kernelspec": {
   "display_name": "Python 3",
   "language": "python",
   "name": "python3"
  },
  "language_info": {
   "codemirror_mode": {
    "name": "ipython",
    "version": 3
   },
   "file_extension": ".py",
   "mimetype": "text/x-python",
   "name": "python",
   "nbconvert_exporter": "python",
   "pygments_lexer": "ipython3",
   "version": "3.8.5"
  }
 },
 "nbformat": 4,
 "nbformat_minor": 4
}
