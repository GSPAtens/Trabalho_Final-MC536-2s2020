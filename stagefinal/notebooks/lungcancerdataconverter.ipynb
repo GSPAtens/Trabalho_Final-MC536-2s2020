{
 "cells": [
  {
   "cell_type": "markdown",
   "metadata": {},
   "source": [
    "### Conversão de dados retirados da API CDC Wonder\n",
    "##### Os arquivos base foram baixados preenchendo-se os formulários da API (disponível em https://wonder.cdc.gov/mortSQL.html) de forma manual, visto que só é possível filtrar por estado americano por este meio."
   ]
  },
  {
   "cell_type": "code",
   "execution_count": 5,
   "metadata": {},
   "outputs": [],
   "source": [
    "import csv\n",
    "import pandas as pd"
   ]
  },
  {
   "cell_type": "code",
   "execution_count": 26,
   "metadata": {},
   "outputs": [],
   "source": [
    "base_data_path = '../data/'\n",
    "base_dataset_name = base_data_path + 'processed/' + 'lungcancer'\n",
    "datasets = ['1968-1978','1979-1998','1999-2018']"
   ]
  },
  {
   "cell_type": "code",
   "execution_count": 27,
   "metadata": {},
   "outputs": [],
   "source": [
    "for interval in datasets:\n",
    "    name = base_data_path + 'raw/lungcancer' + interval + '.txt'\n",
    "\n",
    "    with open(base_dataset_name + interval + '.csv', 'w') as newfile:\n",
    "\n",
    "        f = open(name)\n",
    "        output = f.readline().split('\\t')\n",
    "        for i in range(len(output)):\n",
    "            output[i] = output[i].replace(\" \",\"\")\n",
    "        while output[0] != '\"---\"\\n':\n",
    "            data = []\n",
    "            output.pop(0)\n",
    "            for x in output:\n",
    "                x.split(\"\\\"\")\n",
    "                y = x.replace(\"\\\"\", \"\").replace(\"\\n\", \"\")\n",
    "                try:\n",
    "                    data.append(int(y))\n",
    "                    continue\n",
    "                except:\n",
    "                    try:\n",
    "                        data.append(float(y))\n",
    "                        continue\n",
    "                    except:\n",
    "                        data.append(y)\n",
    "            if data[3] != '':\n",
    "                data.pop(1)\n",
    "                wr = csv.writer(newfile, quoting=csv.QUOTE_NONE)\n",
    "                wr.writerow(data)\n",
    "            output = f.readline().split('\\t')"
   ]
  },
  {
   "cell_type": "code",
   "execution_count": 30,
   "metadata": {},
   "outputs": [],
   "source": [
    "combined_csv = pd.concat([pd.read_csv(base_dataset_name + f + '.csv') for f in datasets])\n",
    "combined_csv.to_csv(base_dataset_name + '.csv',index=False)"
   ]
  }
 ],
 "metadata": {
  "kernelspec": {
   "display_name": "Python 3",
   "language": "python",
   "name": "python3"
  },
  "language_info": {
   "codemirror_mode": {
    "name": "ipython",
    "version": 3
   },
   "file_extension": ".py",
   "mimetype": "text/x-python",
   "name": "python",
   "nbconvert_exporter": "python",
   "pygments_lexer": "ipython3",
   "version": "3.8.5"
  },
  "toc": {
   "base_numbering": 1,
   "nav_menu": {},
   "number_sections": false,
   "sideBar": false,
   "skip_h1_title": false,
   "title_cell": "Table of Contents",
   "title_sidebar": "Contents",
   "toc_cell": false,
   "toc_position": {},
   "toc_section_display": false,
   "toc_window_display": false
  }
 },
 "nbformat": 4,
 "nbformat_minor": 4
}
